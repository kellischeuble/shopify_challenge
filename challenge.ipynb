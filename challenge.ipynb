{
  "nbformat": 4,
  "nbformat_minor": 0,
  "metadata": {
    "colab": {
      "name": "challenge.ipynb",
      "provenance": []
    },
    "kernelspec": {
      "name": "python3",
      "display_name": "Python 3"
    }
  },
  "cells": [
    {
      "cell_type": "markdown",
      "metadata": {
        "id": "958ZX4QlwF1O",
        "colab_type": "text"
      },
      "source": [
        "# Question 1:\n",
        "\n",
        "\n",
        "On Shopify, we have exactly 100 sneaker shops, and each of these shops sells only one model of shoe. We want to do some analysis of the average order value (AOV). When we look at orders data over a 30 day window, we naively calculate an AOV of $3145.13. Given that we know these shops are selling sneakers, a relatively affordable item, something seems wrong with our analysis. \n",
        "\n",
        "Think about what could be going wrong with our calculation. Think about a better way to evaluate this data. \n",
        "\n",
        "\n",
        "What metric would you report for this dataset?\n",
        "\n",
        "\n",
        "What is its value?\n"
      ]
    },
    {
      "cell_type": "code",
      "metadata": {
        "id": "q75PT0_uv5vA",
        "colab_type": "code",
        "colab": {}
      },
      "source": [
        "import pandas as pd\n",
        "import seaborn as sns"
      ],
      "execution_count": 51,
      "outputs": []
    },
    {
      "cell_type": "code",
      "metadata": {
        "id": "hRPuVXqHwEES",
        "colab_type": "code",
        "colab": {}
      },
      "source": [
        "df = pd.read_csv('q1.csv')"
      ],
      "execution_count": 3,
      "outputs": []
    },
    {
      "cell_type": "code",
      "metadata": {
        "id": "t4ZZPjAtwal5",
        "colab_type": "code",
        "colab": {
          "base_uri": "https://localhost:8080/",
          "height": 206
        },
        "outputId": "76d8f115-6760-4b1d-a058-df05e3ce0773"
      },
      "source": [
        "df.head()"
      ],
      "execution_count": 5,
      "outputs": [
        {
          "output_type": "execute_result",
          "data": {
            "text/html": [
              "<div>\n",
              "<style scoped>\n",
              "    .dataframe tbody tr th:only-of-type {\n",
              "        vertical-align: middle;\n",
              "    }\n",
              "\n",
              "    .dataframe tbody tr th {\n",
              "        vertical-align: top;\n",
              "    }\n",
              "\n",
              "    .dataframe thead th {\n",
              "        text-align: right;\n",
              "    }\n",
              "</style>\n",
              "<table border=\"1\" class=\"dataframe\">\n",
              "  <thead>\n",
              "    <tr style=\"text-align: right;\">\n",
              "      <th></th>\n",
              "      <th>order_id</th>\n",
              "      <th>shop_id</th>\n",
              "      <th>user_id</th>\n",
              "      <th>order_amount</th>\n",
              "      <th>total_items</th>\n",
              "      <th>payment_method</th>\n",
              "      <th>created_at</th>\n",
              "    </tr>\n",
              "  </thead>\n",
              "  <tbody>\n",
              "    <tr>\n",
              "      <th>0</th>\n",
              "      <td>1</td>\n",
              "      <td>53</td>\n",
              "      <td>746</td>\n",
              "      <td>224</td>\n",
              "      <td>2</td>\n",
              "      <td>cash</td>\n",
              "      <td>2017-03-13 12:36:56</td>\n",
              "    </tr>\n",
              "    <tr>\n",
              "      <th>1</th>\n",
              "      <td>2</td>\n",
              "      <td>92</td>\n",
              "      <td>925</td>\n",
              "      <td>90</td>\n",
              "      <td>1</td>\n",
              "      <td>cash</td>\n",
              "      <td>2017-03-03 17:38:52</td>\n",
              "    </tr>\n",
              "    <tr>\n",
              "      <th>2</th>\n",
              "      <td>3</td>\n",
              "      <td>44</td>\n",
              "      <td>861</td>\n",
              "      <td>144</td>\n",
              "      <td>1</td>\n",
              "      <td>cash</td>\n",
              "      <td>2017-03-14 4:23:56</td>\n",
              "    </tr>\n",
              "    <tr>\n",
              "      <th>3</th>\n",
              "      <td>4</td>\n",
              "      <td>18</td>\n",
              "      <td>935</td>\n",
              "      <td>156</td>\n",
              "      <td>1</td>\n",
              "      <td>credit_card</td>\n",
              "      <td>2017-03-26 12:43:37</td>\n",
              "    </tr>\n",
              "    <tr>\n",
              "      <th>4</th>\n",
              "      <td>5</td>\n",
              "      <td>18</td>\n",
              "      <td>883</td>\n",
              "      <td>156</td>\n",
              "      <td>1</td>\n",
              "      <td>credit_card</td>\n",
              "      <td>2017-03-01 4:35:11</td>\n",
              "    </tr>\n",
              "  </tbody>\n",
              "</table>\n",
              "</div>"
            ],
            "text/plain": [
              "   order_id  shop_id  user_id  ...  total_items  payment_method           created_at\n",
              "0         1       53      746  ...            2            cash  2017-03-13 12:36:56\n",
              "1         2       92      925  ...            1            cash  2017-03-03 17:38:52\n",
              "2         3       44      861  ...            1            cash   2017-03-14 4:23:56\n",
              "3         4       18      935  ...            1     credit_card  2017-03-26 12:43:37\n",
              "4         5       18      883  ...            1     credit_card   2017-03-01 4:35:11\n",
              "\n",
              "[5 rows x 7 columns]"
            ]
          },
          "metadata": {
            "tags": []
          },
          "execution_count": 5
        }
      ]
    },
    {
      "cell_type": "code",
      "metadata": {
        "id": "39yLGWWkwy0G",
        "colab_type": "code",
        "colab": {
          "base_uri": "https://localhost:8080/",
          "height": 34
        },
        "outputId": "11aafcb9-9e07-4ad3-e24d-d8aa08c2d39c"
      },
      "source": [
        "df.order_amount.mean()"
      ],
      "execution_count": 6,
      "outputs": [
        {
          "output_type": "execute_result",
          "data": {
            "text/plain": [
              "3145.128"
            ]
          },
          "metadata": {
            "tags": []
          },
          "execution_count": 6
        }
      ]
    },
    {
      "cell_type": "markdown",
      "metadata": {
        "id": "X1ECDzVVnE_U",
        "colab_type": "text"
      },
      "source": [
        "To gain beter insight about why the AOV is so high, it is important to understand the distribution of the data:"
      ]
    },
    {
      "cell_type": "code",
      "metadata": {
        "id": "P05_9fwXq4Bu",
        "colab_type": "code",
        "colab": {
          "base_uri": "https://localhost:8080/",
          "height": 296
        },
        "outputId": "3f86a7aa-ef0d-45ed-f0e6-056cbbd39ea1"
      },
      "source": [
        "# Raw histogram and box plots with all of the data do not give us an accurate \n",
        "# representation of the distribution.\n",
        "\n",
        "sns.distplot(df['order_amount']);"
      ],
      "execution_count": 56,
      "outputs": [
        {
          "output_type": "display_data",
          "data": {
            "image/png": "[encoded data removed]",
            "text/plain": [
              "<Figure size 432x288 with 1 Axes>"
            ]
          },
          "metadata": {
            "tags": []
          }
        }
      ]
    },
    {
      "cell_type": "code",
      "metadata": {
        "id": "H17g5WSsnkNH",
        "colab_type": "code",
        "colab": {
          "base_uri": "https://localhost:8080/",
          "height": 285
        },
        "outputId": "ef2f7a09-98b4-444e-fae9-74b565fa597c"
      },
      "source": [
        "sns.boxplot(x=df[\"order_amount\"]);"
      ],
      "execution_count": 40,
      "outputs": [
        {
          "output_type": "display_data",
          "data": {
            "image/png": "[encoded data removed]",
            "text/plain": [
              "<Figure size 432x288 with 1 Axes>"
            ]
          },
          "metadata": {
            "tags": []
          }
        }
      ]
    },
    {
      "cell_type": "code",
      "metadata": {
        "id": "Ed8l9f7UphJE",
        "colab_type": "code",
        "colab": {
          "base_uri": "https://localhost:8080/",
          "height": 52
        },
        "outputId": "196d5cb0-64bf-439d-c21f-3fa6cd973ddf"
      },
      "source": [
        "quantile_99 = df[\"order_amount\"].quantile(0.99)\n",
        "quantile_98 = df[\"order_amount\"].quantile(0.98)\n",
        "print(\"99th Quantile:\", int(quantile_99))\n",
        "print(\"98th Quantile:\", int(quantile_98))"
      ],
      "execution_count": 68,
      "outputs": [
        {
          "output_type": "stream",
          "text": [
            "99th Quantile: 25725\n",
            "98th Quantile: 800\n"
          ],
          "name": "stdout"
        }
      ]
    },
    {
      "cell_type": "code",
      "metadata": {
        "id": "eBDr6CUYrtUI",
        "colab_type": "code",
        "colab": {
          "base_uri": "https://localhost:8080/",
          "height": 289
        },
        "outputId": "763b95e0-39ce-4de3-ed39-6ba2ad28500a"
      },
      "source": [
        "# Histogram and Box Plot with values under the 99th quantile gives us a \n",
        "# much more accurate of what the distribution is actually like\n",
        "sns.distplot(df[df['order_amount'] < quantile_99][\"order_amount\"]);"
      ],
      "execution_count": 65,
      "outputs": [
        {
          "output_type": "display_data",
          "data": {
            "image/png": "[encoded data removed]",
            "text/plain": [
              "<Figure size 432x288 with 1 Axes>"
            ]
          },
          "metadata": {
            "tags": []
          }
        }
      ]
    },
    {
      "cell_type": "code",
      "metadata": {
        "id": "bD1ow2ClsjBN",
        "colab_type": "code",
        "colab": {
          "base_uri": "https://localhost:8080/",
          "height": 285
        },
        "outputId": "4cba57f9-adcc-44be-a3a7-cbf15c354cb2"
      },
      "source": [
        "sns.boxplot(x=df[df['order_amount'] < quantile_99][\"order_amount\"]);"
      ],
      "execution_count": 66,
      "outputs": [
        {
          "output_type": "display_data",
          "data": {
            "image/png": "[encoded data removed]",
            "text/plain": [
              "<Figure size 432x288 with 1 Axes>"
            ]
          },
          "metadata": {
            "tags": []
          }
        }
      ]
    },
    {
      "cell_type": "markdown",
      "metadata": {
        "id": "X4nZIfhSjwVS",
        "colab_type": "text"
      },
      "source": [
        "It looks like the average order value is getting extremely skewed by some very large purchase orders - outliers. Only 2% of all of the orders are above $800.  However, it seems that those outliers are extremely large ranging from 100,000 to over 700,000, greatly skewing the average. A better metric for this would be the median, because it gives us more of an idea of what a \"typical\" order is like without being skewed by the super expensive orders."
      ]
    },
    {
      "cell_type": "code",
      "metadata": {
        "id": "mkKszuUYkA1a",
        "colab_type": "code",
        "colab": {
          "base_uri": "https://localhost:8080/",
          "height": 34
        },
        "outputId": "ebe4bd39-c860-417a-e714-1e2f8d930668"
      },
      "source": [
        "print(\"Median order value:\", df.order_amount.median())"
      ],
      "execution_count": 70,
      "outputs": [
        {
          "output_type": "stream",
          "text": [
            "Median order value: 284.0\n"
          ],
          "name": "stdout"
        }
      ]
    },
    {
      "cell_type": "markdown",
      "metadata": {
        "id": "1xagSohJzsAy",
        "colab_type": "text"
      },
      "source": [
        "# Question 2:\n",
        "\n",
        "SQL with [this data set](https://www.w3schools.com/SQL/TRYSQL.ASP?FILENAME=TRYSQL_SELECT_ALL)\n",
        "\n",
        "### How many orders were shipped by Speedy Express in total?"
      ]
    },
    {
      "cell_type": "code",
      "metadata": {
        "id": "1J3NRvg70Jrr",
        "colab_type": "code",
        "colab": {}
      },
      "source": [
        "SELECT COUNT(OrderID)\n",
        "FROM Orders\n",
        "INNER JOIN Shippers \n",
        "ON Orders.ShipperID=Shippers.ShipperID;"
      ],
      "execution_count": null,
      "outputs": []
    },
    {
      "cell_type": "markdown",
      "metadata": {
        "id": "G7jydAmyyzs7",
        "colab_type": "text"
      },
      "source": [
        "There were **196** orders shipped by Speedy Express"
      ]
    },
    {
      "cell_type": "markdown",
      "metadata": {
        "id": "GubV2Km3I-Ne",
        "colab_type": "text"
      },
      "source": [
        "### What is the last name of the employee with the most orders?"
      ]
    },
    {
      "cell_type": "code",
      "metadata": {
        "id": "Zl_iKrMVJCyn",
        "colab_type": "code",
        "colab": {}
      },
      "source": [
        "SELECT TOP 1 Employees.LastName\n",
        "FROM (\n",
        "\tSELECT COUNT(*) as OrderCount, EmployeeID\n",
        "\tFROM Orders\n",
        "\tGROUP BY EmployeeID\n",
        ") as Counts\n",
        "INNER JOIN Employees\n",
        "ON Employees.EmployeeID=Counts.EmployeeID\n",
        "ORDER BY OrderCount DESC;"
      ],
      "execution_count": null,
      "outputs": []
    },
    {
      "cell_type": "markdown",
      "metadata": {
        "id": "Sg2cUV3pY3nv",
        "colab_type": "text"
      },
      "source": [
        "The employee with the most orders has the last name **Peacock**"
      ]
    },
    {
      "cell_type": "markdown",
      "metadata": {
        "id": "yN20R7BiJArK",
        "colab_type": "text"
      },
      "source": [
        "### What product was ordered the most by customers in Germany?"
      ]
    },
    {
      "cell_type": "code",
      "metadata": {
        "id": "KVyD03bOJCEf",
        "colab_type": "code",
        "colab": {}
      },
      "source": [
        "SELECT TOP 1 P.*\n",
        "FROM (\n",
        "\tSELECT SUM(OD.Quantity) as ProductQuantity, OD.ProductID \n",
        "\tFROM OrderDetails as OD\n",
        "\tINNER JOIN Orders as O \n",
        "\tON OD.OrderID = O.OrderID\n",
        "\tWHERE O.CustomerID IN (\n",
        "\t\tSELECT CustomerID\n",
        "    \tFROM Customers\n",
        "    \tWHERE Country = 'Germany'\n",
        "\t)\n",
        "\tGROUP BY ProductID\n",
        ") as ProductQuantities\n",
        "INNER JOIN Products as P\n",
        "ON ProductQuantities.ProductID = P.ProductID\n",
        "ORDER BY ProductQuantities.ProductQuantity DESC;"
      ],
      "execution_count": null,
      "outputs": []
    },
    {
      "cell_type": "markdown",
      "metadata": {
        "id": "T3Oh2AQn3P_A",
        "colab_type": "text"
      },
      "source": [
        "ProductID: 40\n",
        "\n",
        "ProductName: Boston Crab Meat\n",
        "\n",
        "SupplierID: 19\n",
        "\n",
        "CategoryID: 8\n",
        "\n",
        "Unit: 24 - 4oz tins\n",
        "\n",
        "Price: 18.4"
      ]
    }
  ]
}